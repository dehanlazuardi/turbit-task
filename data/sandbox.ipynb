{
 "cells": [
  {
   "cell_type": "code",
   "execution_count": 10,
   "metadata": {},
   "outputs": [],
   "source": [
    "import pandas as pd\n",
    "import numpy as np\n",
    "from datetime import datetime"
   ]
  },
  {
   "cell_type": "markdown",
   "metadata": {},
   "source": [
    "## Load Data"
   ]
  },
  {
   "cell_type": "markdown",
   "metadata": {},
   "source": [
    "#### Turbine 1"
   ]
  },
  {
   "cell_type": "code",
   "execution_count": 2,
   "metadata": {},
   "outputs": [
    {
     "data": {
      "text/html": [
       "<div>\n",
       "<style scoped>\n",
       "    .dataframe tbody tr th:only-of-type {\n",
       "        vertical-align: middle;\n",
       "    }\n",
       "\n",
       "    .dataframe tbody tr th {\n",
       "        vertical-align: top;\n",
       "    }\n",
       "\n",
       "    .dataframe thead th {\n",
       "        text-align: right;\n",
       "    }\n",
       "</style>\n",
       "<table border=\"1\" class=\"dataframe\">\n",
       "  <thead>\n",
       "    <tr style=\"text-align: right;\">\n",
       "      <th></th>\n",
       "      <th>Dat/Zeit</th>\n",
       "      <th>Wind</th>\n",
       "      <th>Rotor</th>\n",
       "      <th>Leistung</th>\n",
       "      <th>Azimut</th>\n",
       "      <th>Prod. 1</th>\n",
       "      <th>Prod. 2</th>\n",
       "      <th>BtrStd 1</th>\n",
       "      <th>BtrStd 2</th>\n",
       "      <th>Gen1-</th>\n",
       "      <th>...</th>\n",
       "      <th>Abgabe</th>\n",
       "      <th>Bezug</th>\n",
       "      <th>KH-Zähl1</th>\n",
       "      <th>KH-Zähl2</th>\n",
       "      <th>KH-DigiE</th>\n",
       "      <th>KH-DigiI</th>\n",
       "      <th>KH-Ana-1</th>\n",
       "      <th>KH-Ana-2</th>\n",
       "      <th>KH-Ana-3</th>\n",
       "      <th>KH-Ana-4</th>\n",
       "    </tr>\n",
       "  </thead>\n",
       "  <tbody>\n",
       "    <tr>\n",
       "      <th>0</th>\n",
       "      <td></td>\n",
       "      <td>m/s</td>\n",
       "      <td>rpm</td>\n",
       "      <td>kW</td>\n",
       "      <td>°</td>\n",
       "      <td>kWh</td>\n",
       "      <td>kWh</td>\n",
       "      <td>h</td>\n",
       "      <td>h</td>\n",
       "      <td>°C</td>\n",
       "      <td>...</td>\n",
       "      <td>kWh</td>\n",
       "      <td>kWh</td>\n",
       "      <td>Imp</td>\n",
       "      <td>Imp</td>\n",
       "      <td>Bit</td>\n",
       "      <td>Bit</td>\n",
       "      <td></td>\n",
       "      <td></td>\n",
       "      <td></td>\n",
       "      <td></td>\n",
       "    </tr>\n",
       "    <tr>\n",
       "      <th>1</th>\n",
       "      <td>01.01.2016, 00:10</td>\n",
       "      <td>5,8</td>\n",
       "      <td>10</td>\n",
       "      <td>268,5</td>\n",
       "      <td>161,4</td>\n",
       "      <td>31533151</td>\n",
       "      <td>5742941</td>\n",
       "      <td>48371</td>\n",
       "      <td>46008</td>\n",
       "      <td>14,8</td>\n",
       "      <td>...</td>\n",
       "      <td>0</td>\n",
       "      <td>0</td>\n",
       "      <td>0</td>\n",
       "      <td>0</td>\n",
       "      <td>0</td>\n",
       "      <td>0</td>\n",
       "      <td>0</td>\n",
       "      <td>0</td>\n",
       "      <td>0</td>\n",
       "      <td>0</td>\n",
       "    </tr>\n",
       "    <tr>\n",
       "      <th>2</th>\n",
       "      <td>01.01.2016, 00:20</td>\n",
       "      <td>5,8</td>\n",
       "      <td>10</td>\n",
       "      <td>268,5</td>\n",
       "      <td>161,4</td>\n",
       "      <td>31533151</td>\n",
       "      <td>5742941</td>\n",
       "      <td>48371</td>\n",
       "      <td>46008</td>\n",
       "      <td>14,8</td>\n",
       "      <td>...</td>\n",
       "      <td>0</td>\n",
       "      <td>0</td>\n",
       "      <td>0</td>\n",
       "      <td>0</td>\n",
       "      <td>0</td>\n",
       "      <td>0</td>\n",
       "      <td>0</td>\n",
       "      <td>0</td>\n",
       "      <td>0</td>\n",
       "      <td>0</td>\n",
       "    </tr>\n",
       "    <tr>\n",
       "      <th>3</th>\n",
       "      <td>01.01.2016, 00:30</td>\n",
       "      <td>5,8</td>\n",
       "      <td>10</td>\n",
       "      <td>272,1</td>\n",
       "      <td>160,6</td>\n",
       "      <td>31533151</td>\n",
       "      <td>5742983</td>\n",
       "      <td>48371</td>\n",
       "      <td>46008</td>\n",
       "      <td>15,9</td>\n",
       "      <td>...</td>\n",
       "      <td>0</td>\n",
       "      <td>0</td>\n",
       "      <td>0</td>\n",
       "      <td>0</td>\n",
       "      <td>0</td>\n",
       "      <td>0</td>\n",
       "      <td>0</td>\n",
       "      <td>0</td>\n",
       "      <td>0</td>\n",
       "      <td>0</td>\n",
       "    </tr>\n",
       "    <tr>\n",
       "      <th>4</th>\n",
       "      <td>01.01.2016, 00:40</td>\n",
       "      <td>6,4</td>\n",
       "      <td>10</td>\n",
       "      <td>320,1</td>\n",
       "      <td>162</td>\n",
       "      <td>31533151</td>\n",
       "      <td>5743039</td>\n",
       "      <td>48371</td>\n",
       "      <td>46008</td>\n",
       "      <td>17,7</td>\n",
       "      <td>...</td>\n",
       "      <td>0</td>\n",
       "      <td>0</td>\n",
       "      <td>0</td>\n",
       "      <td>0</td>\n",
       "      <td>0</td>\n",
       "      <td>0</td>\n",
       "      <td>0</td>\n",
       "      <td>0</td>\n",
       "      <td>0</td>\n",
       "      <td>0</td>\n",
       "    </tr>\n",
       "  </tbody>\n",
       "</table>\n",
       "<p>5 rows × 31 columns</p>\n",
       "</div>"
      ],
      "text/plain": [
       "            Dat/Zeit    Wind  Rotor  Leistung  Azimut     Prod. 1     Prod. 2  \\\n",
       "0                        m/s    rpm        kW       °         kWh         kWh   \n",
       "1  01.01.2016, 00:10     5,8     10     268,5   161,4    31533151     5742941   \n",
       "2  01.01.2016, 00:20     5,8     10     268,5   161,4    31533151     5742941   \n",
       "3  01.01.2016, 00:30     5,8     10     272,1   160,6    31533151     5742983   \n",
       "4  01.01.2016, 00:40     6,4     10     320,1     162    31533151     5743039   \n",
       "\n",
       "   BtrStd 1  BtrStd 2  Gen1-  ...      Abgabe       Bezug    KH-Zähl1  \\\n",
       "0         h         h     °C  ...         kWh         kWh         Imp   \n",
       "1     48371     46008   14,8  ...           0           0           0   \n",
       "2     48371     46008   14,8  ...           0           0           0   \n",
       "3     48371     46008   15,9  ...           0           0           0   \n",
       "4     48371     46008   17,7  ...           0           0           0   \n",
       "\n",
       "     KH-Zähl2    KH-DigiE    KH-DigiI    KH-Ana-1    KH-Ana-2    KH-Ana-3  \\\n",
       "0         Imp         Bit         Bit                                       \n",
       "1           0           0           0           0           0           0   \n",
       "2           0           0           0           0           0           0   \n",
       "3           0           0           0           0           0           0   \n",
       "4           0           0           0           0           0           0   \n",
       "\n",
       "     KH-Ana-4  \n",
       "0              \n",
       "1           0  \n",
       "2           0  \n",
       "3           0  \n",
       "4           0  \n",
       "\n",
       "[5 rows x 31 columns]"
      ]
     },
     "execution_count": 2,
     "metadata": {},
     "output_type": "execute_result"
    }
   ],
   "source": [
    "turbine_1 = pd.read_csv(\"raw/Turbine1.csv\", sep=\";\")\n",
    "turbine_1.head()"
   ]
  },
  {
   "cell_type": "code",
   "execution_count": 3,
   "metadata": {},
   "outputs": [
    {
     "data": {
      "text/html": [
       "<div>\n",
       "<style scoped>\n",
       "    .dataframe tbody tr th:only-of-type {\n",
       "        vertical-align: middle;\n",
       "    }\n",
       "\n",
       "    .dataframe tbody tr th {\n",
       "        vertical-align: top;\n",
       "    }\n",
       "\n",
       "    .dataframe thead th {\n",
       "        text-align: right;\n",
       "    }\n",
       "</style>\n",
       "<table border=\"1\" class=\"dataframe\">\n",
       "  <thead>\n",
       "    <tr style=\"text-align: right;\">\n",
       "      <th></th>\n",
       "      <th>Dat/Zeit</th>\n",
       "      <th>Wind</th>\n",
       "      <th>Rotor</th>\n",
       "      <th>Leistung</th>\n",
       "      <th>Azimut</th>\n",
       "      <th>Prod. 1</th>\n",
       "      <th>Prod. 2</th>\n",
       "      <th>BtrStd 1</th>\n",
       "      <th>BtrStd 2</th>\n",
       "      <th>Gen1-</th>\n",
       "      <th>...</th>\n",
       "      <th>Abgabe</th>\n",
       "      <th>Bezug</th>\n",
       "      <th>KH-Zähl1</th>\n",
       "      <th>KH-Zähl2</th>\n",
       "      <th>KH-DigiE</th>\n",
       "      <th>KH-DigiI</th>\n",
       "      <th>KH-Ana-1</th>\n",
       "      <th>KH-Ana-2</th>\n",
       "      <th>KH-Ana-3</th>\n",
       "      <th>KH-Ana-4</th>\n",
       "    </tr>\n",
       "  </thead>\n",
       "  <tbody>\n",
       "    <tr>\n",
       "      <th>13099</th>\n",
       "      <td>31.03.2016, 23:10</td>\n",
       "      <td>5,2</td>\n",
       "      <td>10</td>\n",
       "      <td>228,2</td>\n",
       "      <td>359,1</td>\n",
       "      <td>32300592</td>\n",
       "      <td>5866558</td>\n",
       "      <td>49430</td>\n",
       "      <td>46892</td>\n",
       "      <td>16,2</td>\n",
       "      <td>...</td>\n",
       "      <td>1595</td>\n",
       "      <td>71</td>\n",
       "      <td>0</td>\n",
       "      <td>0</td>\n",
       "      <td>0</td>\n",
       "      <td>0</td>\n",
       "      <td>0</td>\n",
       "      <td>0</td>\n",
       "      <td>0</td>\n",
       "      <td>0</td>\n",
       "    </tr>\n",
       "    <tr>\n",
       "      <th>13100</th>\n",
       "      <td>31.03.2016, 23:20</td>\n",
       "      <td>5,3</td>\n",
       "      <td>10</td>\n",
       "      <td>237,8</td>\n",
       "      <td>359,7</td>\n",
       "      <td>32300592</td>\n",
       "      <td>5866593</td>\n",
       "      <td>49430</td>\n",
       "      <td>46892</td>\n",
       "      <td>17</td>\n",
       "      <td>...</td>\n",
       "      <td>1595</td>\n",
       "      <td>71</td>\n",
       "      <td>0</td>\n",
       "      <td>0</td>\n",
       "      <td>0</td>\n",
       "      <td>0</td>\n",
       "      <td>0</td>\n",
       "      <td>0</td>\n",
       "      <td>0</td>\n",
       "      <td>0</td>\n",
       "    </tr>\n",
       "    <tr>\n",
       "      <th>13101</th>\n",
       "      <td>31.03.2016, 23:30</td>\n",
       "      <td>5,2</td>\n",
       "      <td>10</td>\n",
       "      <td>209,9</td>\n",
       "      <td>0,3</td>\n",
       "      <td>32300592</td>\n",
       "      <td>5866632</td>\n",
       "      <td>49430</td>\n",
       "      <td>46892</td>\n",
       "      <td>17</td>\n",
       "      <td>...</td>\n",
       "      <td>1595</td>\n",
       "      <td>71</td>\n",
       "      <td>0</td>\n",
       "      <td>0</td>\n",
       "      <td>0</td>\n",
       "      <td>0</td>\n",
       "      <td>0</td>\n",
       "      <td>0</td>\n",
       "      <td>0</td>\n",
       "      <td>0</td>\n",
       "    </tr>\n",
       "    <tr>\n",
       "      <th>13102</th>\n",
       "      <td>31.03.2016, 23:40</td>\n",
       "      <td>5,2</td>\n",
       "      <td>10</td>\n",
       "      <td>220,5</td>\n",
       "      <td>0</td>\n",
       "      <td>32300592</td>\n",
       "      <td>5866670</td>\n",
       "      <td>49430</td>\n",
       "      <td>46892</td>\n",
       "      <td>17</td>\n",
       "      <td>...</td>\n",
       "      <td>1595</td>\n",
       "      <td>71</td>\n",
       "      <td>0</td>\n",
       "      <td>0</td>\n",
       "      <td>0</td>\n",
       "      <td>0</td>\n",
       "      <td>0</td>\n",
       "      <td>0</td>\n",
       "      <td>0</td>\n",
       "      <td>0</td>\n",
       "    </tr>\n",
       "    <tr>\n",
       "      <th>13103</th>\n",
       "      <td>31.03.2016, 23:50</td>\n",
       "      <td>5,9</td>\n",
       "      <td>10</td>\n",
       "      <td>274,1</td>\n",
       "      <td>1,1</td>\n",
       "      <td>32300592</td>\n",
       "      <td>5866712</td>\n",
       "      <td>49430</td>\n",
       "      <td>46892</td>\n",
       "      <td>17,8</td>\n",
       "      <td>...</td>\n",
       "      <td>1595</td>\n",
       "      <td>71</td>\n",
       "      <td>0</td>\n",
       "      <td>0</td>\n",
       "      <td>0</td>\n",
       "      <td>0</td>\n",
       "      <td>0</td>\n",
       "      <td>0</td>\n",
       "      <td>0</td>\n",
       "      <td>0</td>\n",
       "    </tr>\n",
       "  </tbody>\n",
       "</table>\n",
       "<p>5 rows × 31 columns</p>\n",
       "</div>"
      ],
      "text/plain": [
       "                Dat/Zeit   Wind Rotor Leistung Azimut    Prod. 1    Prod. 2  \\\n",
       "13099  31.03.2016, 23:10    5,2    10    228,2  359,1   32300592    5866558   \n",
       "13100  31.03.2016, 23:20    5,3    10    237,8  359,7   32300592    5866593   \n",
       "13101  31.03.2016, 23:30    5,2    10    209,9    0,3   32300592    5866632   \n",
       "13102  31.03.2016, 23:40    5,2    10    220,5      0   32300592    5866670   \n",
       "13103  31.03.2016, 23:50    5,9    10    274,1    1,1   32300592    5866712   \n",
       "\n",
       "      BtrStd 1 BtrStd 2 Gen1-  ...     Abgabe      Bezug   KH-Zähl1  \\\n",
       "13099    49430    46892  16,2  ...       1595         71          0   \n",
       "13100    49430    46892    17  ...       1595         71          0   \n",
       "13101    49430    46892    17  ...       1595         71          0   \n",
       "13102    49430    46892    17  ...       1595         71          0   \n",
       "13103    49430    46892  17,8  ...       1595         71          0   \n",
       "\n",
       "        KH-Zähl2   KH-DigiE   KH-DigiI   KH-Ana-1   KH-Ana-2   KH-Ana-3  \\\n",
       "13099          0          0          0          0          0          0   \n",
       "13100          0          0          0          0          0          0   \n",
       "13101          0          0          0          0          0          0   \n",
       "13102          0          0          0          0          0          0   \n",
       "13103          0          0          0          0          0          0   \n",
       "\n",
       "        KH-Ana-4  \n",
       "13099          0  \n",
       "13100          0  \n",
       "13101          0  \n",
       "13102          0  \n",
       "13103          0  \n",
       "\n",
       "[5 rows x 31 columns]"
      ]
     },
     "execution_count": 3,
     "metadata": {},
     "output_type": "execute_result"
    }
   ],
   "source": [
    "turbine_1.tail()"
   ]
  },
  {
   "cell_type": "code",
   "execution_count": 4,
   "metadata": {},
   "outputs": [
    {
     "data": {
      "text/plain": [
       "(13104, 31)"
      ]
     },
     "execution_count": 4,
     "metadata": {},
     "output_type": "execute_result"
    }
   ],
   "source": [
    "turbine_1.shape"
   ]
  },
  {
   "cell_type": "code",
   "execution_count": 5,
   "metadata": {},
   "outputs": [
    {
     "data": {
      "text/plain": [
       "         Dat/Zeit    object\n",
       "  Wind               object\n",
       "Rotor                object\n",
       "Leistung             object\n",
       "Azimut               object\n",
       "   Prod. 1           object\n",
       "   Prod. 2           object\n",
       "BtrStd 1             object\n",
       "BtrStd 2             object\n",
       "Gen1-                object\n",
       "Lager                object\n",
       "Außen                object\n",
       "GetrT                object\n",
       " Status              object\n",
       "Spann                object\n",
       "Spann.1              object\n",
       "Spann.2              object\n",
       "Strom-               object\n",
       "Strom-.1             object\n",
       "Strom-.2             object\n",
       "CosPh                object\n",
       "    Abgabe           object\n",
       "     Bezug           object\n",
       "  KH-Zähl1           object\n",
       "  KH-Zähl2           object\n",
       "  KH-DigiE           object\n",
       "  KH-DigiI           object\n",
       "  KH-Ana-1           object\n",
       "  KH-Ana-2           object\n",
       "  KH-Ana-3           object\n",
       "  KH-Ana-4           object\n",
       "dtype: object"
      ]
     },
     "execution_count": 5,
     "metadata": {},
     "output_type": "execute_result"
    }
   ],
   "source": [
    "turbine_1.dtypes"
   ]
  },
  {
   "cell_type": "markdown",
   "metadata": {},
   "source": [
    "#### Turbine 2"
   ]
  },
  {
   "cell_type": "code",
   "execution_count": 6,
   "metadata": {},
   "outputs": [
    {
     "data": {
      "text/html": [
       "<div>\n",
       "<style scoped>\n",
       "    .dataframe tbody tr th:only-of-type {\n",
       "        vertical-align: middle;\n",
       "    }\n",
       "\n",
       "    .dataframe tbody tr th {\n",
       "        vertical-align: top;\n",
       "    }\n",
       "\n",
       "    .dataframe thead th {\n",
       "        text-align: right;\n",
       "    }\n",
       "</style>\n",
       "<table border=\"1\" class=\"dataframe\">\n",
       "  <thead>\n",
       "    <tr style=\"text-align: right;\">\n",
       "      <th></th>\n",
       "      <th>Dat/Zeit</th>\n",
       "      <th>Wind</th>\n",
       "      <th>Rotor</th>\n",
       "      <th>Leistung</th>\n",
       "      <th>Azimut</th>\n",
       "      <th>Prod. 1</th>\n",
       "      <th>Prod. 2</th>\n",
       "      <th>BtrStd 1</th>\n",
       "      <th>BtrStd 2</th>\n",
       "      <th>Gen1-</th>\n",
       "      <th>...</th>\n",
       "      <th>Abgabe</th>\n",
       "      <th>Bezug</th>\n",
       "      <th>KH-Zähl1</th>\n",
       "      <th>KH-Zähl2</th>\n",
       "      <th>KH-DigiE</th>\n",
       "      <th>KH-DigiI</th>\n",
       "      <th>KH-Ana-1</th>\n",
       "      <th>KH-Ana-2</th>\n",
       "      <th>KH-Ana-3</th>\n",
       "      <th>KH-Ana-4</th>\n",
       "    </tr>\n",
       "  </thead>\n",
       "  <tbody>\n",
       "    <tr>\n",
       "      <th>0</th>\n",
       "      <td></td>\n",
       "      <td>m/s</td>\n",
       "      <td>rpm</td>\n",
       "      <td>kW</td>\n",
       "      <td>°</td>\n",
       "      <td>kWh</td>\n",
       "      <td>kWh</td>\n",
       "      <td>h</td>\n",
       "      <td>h</td>\n",
       "      <td>°C</td>\n",
       "      <td>...</td>\n",
       "      <td>kWh</td>\n",
       "      <td>kWh</td>\n",
       "      <td>Imp</td>\n",
       "      <td>Imp</td>\n",
       "      <td>Bit</td>\n",
       "      <td>Bit</td>\n",
       "      <td></td>\n",
       "      <td></td>\n",
       "      <td></td>\n",
       "      <td></td>\n",
       "    </tr>\n",
       "    <tr>\n",
       "      <th>1</th>\n",
       "      <td>01.01.2016, 00:10</td>\n",
       "      <td>4,2</td>\n",
       "      <td>10</td>\n",
       "      <td>139,3</td>\n",
       "      <td>161,7</td>\n",
       "      <td>33270717</td>\n",
       "      <td>1712034</td>\n",
       "      <td>48925</td>\n",
       "      <td>45171</td>\n",
       "      <td>14,5</td>\n",
       "      <td>...</td>\n",
       "      <td>0</td>\n",
       "      <td>0</td>\n",
       "      <td>0</td>\n",
       "      <td>0</td>\n",
       "      <td>0</td>\n",
       "      <td>0</td>\n",
       "      <td>0</td>\n",
       "      <td>0</td>\n",
       "      <td>0</td>\n",
       "      <td>0</td>\n",
       "    </tr>\n",
       "    <tr>\n",
       "      <th>2</th>\n",
       "      <td>01.01.2016, 00:20</td>\n",
       "      <td>4,2</td>\n",
       "      <td>10</td>\n",
       "      <td>139,3</td>\n",
       "      <td>161,7</td>\n",
       "      <td>33270717</td>\n",
       "      <td>1712034</td>\n",
       "      <td>48925</td>\n",
       "      <td>45171</td>\n",
       "      <td>14,5</td>\n",
       "      <td>...</td>\n",
       "      <td>0</td>\n",
       "      <td>0</td>\n",
       "      <td>0</td>\n",
       "      <td>0</td>\n",
       "      <td>0</td>\n",
       "      <td>0</td>\n",
       "      <td>0</td>\n",
       "      <td>0</td>\n",
       "      <td>0</td>\n",
       "      <td>0</td>\n",
       "    </tr>\n",
       "    <tr>\n",
       "      <th>3</th>\n",
       "      <td>01.01.2016, 00:30</td>\n",
       "      <td>4,4</td>\n",
       "      <td>10</td>\n",
       "      <td>162,1</td>\n",
       "      <td>160,8</td>\n",
       "      <td>33270717</td>\n",
       "      <td>1712059</td>\n",
       "      <td>48925</td>\n",
       "      <td>45171</td>\n",
       "      <td>14</td>\n",
       "      <td>...</td>\n",
       "      <td>0</td>\n",
       "      <td>0</td>\n",
       "      <td>0</td>\n",
       "      <td>0</td>\n",
       "      <td>0</td>\n",
       "      <td>0</td>\n",
       "      <td>0</td>\n",
       "      <td>0</td>\n",
       "      <td>0</td>\n",
       "      <td>0</td>\n",
       "    </tr>\n",
       "    <tr>\n",
       "      <th>4</th>\n",
       "      <td>01.01.2016, 00:40</td>\n",
       "      <td>5,4</td>\n",
       "      <td>10</td>\n",
       "      <td>265,1</td>\n",
       "      <td>161,3</td>\n",
       "      <td>33270717</td>\n",
       "      <td>1712105</td>\n",
       "      <td>48925</td>\n",
       "      <td>45171</td>\n",
       "      <td>14,8</td>\n",
       "      <td>...</td>\n",
       "      <td>0</td>\n",
       "      <td>0</td>\n",
       "      <td>0</td>\n",
       "      <td>0</td>\n",
       "      <td>0</td>\n",
       "      <td>0</td>\n",
       "      <td>0</td>\n",
       "      <td>0</td>\n",
       "      <td>0</td>\n",
       "      <td>0</td>\n",
       "    </tr>\n",
       "  </tbody>\n",
       "</table>\n",
       "<p>5 rows × 31 columns</p>\n",
       "</div>"
      ],
      "text/plain": [
       "            Dat/Zeit    Wind  Rotor  Leistung  Azimut     Prod. 1     Prod. 2  \\\n",
       "0                        m/s    rpm        kW       °         kWh         kWh   \n",
       "1  01.01.2016, 00:10     4,2     10     139,3   161,7    33270717     1712034   \n",
       "2  01.01.2016, 00:20     4,2     10     139,3   161,7    33270717     1712034   \n",
       "3  01.01.2016, 00:30     4,4     10     162,1   160,8    33270717     1712059   \n",
       "4  01.01.2016, 00:40     5,4     10     265,1   161,3    33270717     1712105   \n",
       "\n",
       "   BtrStd 1  BtrStd 2  Gen1-  ...      Abgabe       Bezug    KH-Zähl1  \\\n",
       "0         h         h     °C  ...         kWh         kWh         Imp   \n",
       "1     48925     45171   14,5  ...           0           0           0   \n",
       "2     48925     45171   14,5  ...           0           0           0   \n",
       "3     48925     45171     14  ...           0           0           0   \n",
       "4     48925     45171   14,8  ...           0           0           0   \n",
       "\n",
       "     KH-Zähl2    KH-DigiE    KH-DigiI    KH-Ana-1    KH-Ana-2    KH-Ana-3  \\\n",
       "0         Imp         Bit         Bit                                       \n",
       "1           0           0           0           0           0           0   \n",
       "2           0           0           0           0           0           0   \n",
       "3           0           0           0           0           0           0   \n",
       "4           0           0           0           0           0           0   \n",
       "\n",
       "     KH-Ana-4  \n",
       "0              \n",
       "1           0  \n",
       "2           0  \n",
       "3           0  \n",
       "4           0  \n",
       "\n",
       "[5 rows x 31 columns]"
      ]
     },
     "execution_count": 6,
     "metadata": {},
     "output_type": "execute_result"
    }
   ],
   "source": [
    "turbine_2 = pd.read_csv(\"raw/Turbine2.csv\", sep=\";\")\n",
    "turbine_2.head()"
   ]
  },
  {
   "cell_type": "code",
   "execution_count": 7,
   "metadata": {},
   "outputs": [
    {
     "data": {
      "text/html": [
       "<div>\n",
       "<style scoped>\n",
       "    .dataframe tbody tr th:only-of-type {\n",
       "        vertical-align: middle;\n",
       "    }\n",
       "\n",
       "    .dataframe tbody tr th {\n",
       "        vertical-align: top;\n",
       "    }\n",
       "\n",
       "    .dataframe thead th {\n",
       "        text-align: right;\n",
       "    }\n",
       "</style>\n",
       "<table border=\"1\" class=\"dataframe\">\n",
       "  <thead>\n",
       "    <tr style=\"text-align: right;\">\n",
       "      <th></th>\n",
       "      <th>Dat/Zeit</th>\n",
       "      <th>Wind</th>\n",
       "      <th>Rotor</th>\n",
       "      <th>Leistung</th>\n",
       "      <th>Azimut</th>\n",
       "      <th>Prod. 1</th>\n",
       "      <th>Prod. 2</th>\n",
       "      <th>BtrStd 1</th>\n",
       "      <th>BtrStd 2</th>\n",
       "      <th>Gen1-</th>\n",
       "      <th>...</th>\n",
       "      <th>Abgabe</th>\n",
       "      <th>Bezug</th>\n",
       "      <th>KH-Zähl1</th>\n",
       "      <th>KH-Zähl2</th>\n",
       "      <th>KH-DigiE</th>\n",
       "      <th>KH-DigiI</th>\n",
       "      <th>KH-Ana-1</th>\n",
       "      <th>KH-Ana-2</th>\n",
       "      <th>KH-Ana-3</th>\n",
       "      <th>KH-Ana-4</th>\n",
       "    </tr>\n",
       "  </thead>\n",
       "  <tbody>\n",
       "    <tr>\n",
       "      <th>13099</th>\n",
       "      <td>31.03.2016, 23:10</td>\n",
       "      <td>5,1</td>\n",
       "      <td>10</td>\n",
       "      <td>229,8</td>\n",
       "      <td>356,1</td>\n",
       "      <td>34103533</td>\n",
       "      <td>1823091</td>\n",
       "      <td>50073</td>\n",
       "      <td>45943</td>\n",
       "      <td>19,5</td>\n",
       "      <td>...</td>\n",
       "      <td>1202</td>\n",
       "      <td>21</td>\n",
       "      <td>0</td>\n",
       "      <td>0</td>\n",
       "      <td>0</td>\n",
       "      <td>0</td>\n",
       "      <td>0</td>\n",
       "      <td>0</td>\n",
       "      <td>0</td>\n",
       "      <td>0</td>\n",
       "    </tr>\n",
       "    <tr>\n",
       "      <th>13100</th>\n",
       "      <td>31.03.2016, 23:20</td>\n",
       "      <td>5,1</td>\n",
       "      <td>10</td>\n",
       "      <td>226,4</td>\n",
       "      <td>355,8</td>\n",
       "      <td>34103533</td>\n",
       "      <td>1823136</td>\n",
       "      <td>50073</td>\n",
       "      <td>45943</td>\n",
       "      <td>20</td>\n",
       "      <td>...</td>\n",
       "      <td>1202</td>\n",
       "      <td>21</td>\n",
       "      <td>0</td>\n",
       "      <td>0</td>\n",
       "      <td>0</td>\n",
       "      <td>0</td>\n",
       "      <td>0</td>\n",
       "      <td>0</td>\n",
       "      <td>0</td>\n",
       "      <td>0</td>\n",
       "    </tr>\n",
       "    <tr>\n",
       "      <th>13101</th>\n",
       "      <td>31.03.2016, 23:30</td>\n",
       "      <td>5,4</td>\n",
       "      <td>10</td>\n",
       "      <td>254,3</td>\n",
       "      <td>355,4</td>\n",
       "      <td>34103533</td>\n",
       "      <td>1823175</td>\n",
       "      <td>50073</td>\n",
       "      <td>45943</td>\n",
       "      <td>20</td>\n",
       "      <td>...</td>\n",
       "      <td>1202</td>\n",
       "      <td>21</td>\n",
       "      <td>0</td>\n",
       "      <td>0</td>\n",
       "      <td>0</td>\n",
       "      <td>0</td>\n",
       "      <td>0</td>\n",
       "      <td>0</td>\n",
       "      <td>0</td>\n",
       "      <td>0</td>\n",
       "    </tr>\n",
       "    <tr>\n",
       "      <th>13102</th>\n",
       "      <td>31.03.2016, 23:40</td>\n",
       "      <td>5,4</td>\n",
       "      <td>10</td>\n",
       "      <td>240,9</td>\n",
       "      <td>359</td>\n",
       "      <td>34103533</td>\n",
       "      <td>1823215</td>\n",
       "      <td>50073</td>\n",
       "      <td>45943</td>\n",
       "      <td>20</td>\n",
       "      <td>...</td>\n",
       "      <td>1202</td>\n",
       "      <td>21</td>\n",
       "      <td>0</td>\n",
       "      <td>0</td>\n",
       "      <td>0</td>\n",
       "      <td>0</td>\n",
       "      <td>0</td>\n",
       "      <td>0</td>\n",
       "      <td>0</td>\n",
       "      <td>0</td>\n",
       "    </tr>\n",
       "    <tr>\n",
       "      <th>13103</th>\n",
       "      <td>31.03.2016, 23:50</td>\n",
       "      <td>5,4</td>\n",
       "      <td>10</td>\n",
       "      <td>278,3</td>\n",
       "      <td>352,7</td>\n",
       "      <td>34103533</td>\n",
       "      <td>1823268</td>\n",
       "      <td>50073</td>\n",
       "      <td>45943</td>\n",
       "      <td>20</td>\n",
       "      <td>...</td>\n",
       "      <td>1202</td>\n",
       "      <td>21</td>\n",
       "      <td>0</td>\n",
       "      <td>0</td>\n",
       "      <td>0</td>\n",
       "      <td>0</td>\n",
       "      <td>0</td>\n",
       "      <td>0</td>\n",
       "      <td>0</td>\n",
       "      <td>0</td>\n",
       "    </tr>\n",
       "  </tbody>\n",
       "</table>\n",
       "<p>5 rows × 31 columns</p>\n",
       "</div>"
      ],
      "text/plain": [
       "                Dat/Zeit   Wind Rotor Leistung Azimut    Prod. 1    Prod. 2  \\\n",
       "13099  31.03.2016, 23:10    5,1    10    229,8  356,1   34103533    1823091   \n",
       "13100  31.03.2016, 23:20    5,1    10    226,4  355,8   34103533    1823136   \n",
       "13101  31.03.2016, 23:30    5,4    10    254,3  355,4   34103533    1823175   \n",
       "13102  31.03.2016, 23:40    5,4    10    240,9    359   34103533    1823215   \n",
       "13103  31.03.2016, 23:50    5,4    10    278,3  352,7   34103533    1823268   \n",
       "\n",
       "      BtrStd 1 BtrStd 2 Gen1-  ...     Abgabe      Bezug   KH-Zähl1  \\\n",
       "13099    50073    45943  19,5  ...       1202         21          0   \n",
       "13100    50073    45943    20  ...       1202         21          0   \n",
       "13101    50073    45943    20  ...       1202         21          0   \n",
       "13102    50073    45943    20  ...       1202         21          0   \n",
       "13103    50073    45943    20  ...       1202         21          0   \n",
       "\n",
       "        KH-Zähl2   KH-DigiE   KH-DigiI   KH-Ana-1   KH-Ana-2   KH-Ana-3  \\\n",
       "13099          0          0          0          0          0          0   \n",
       "13100          0          0          0          0          0          0   \n",
       "13101          0          0          0          0          0          0   \n",
       "13102          0          0          0          0          0          0   \n",
       "13103          0          0          0          0          0          0   \n",
       "\n",
       "        KH-Ana-4  \n",
       "13099          0  \n",
       "13100          0  \n",
       "13101          0  \n",
       "13102          0  \n",
       "13103          0  \n",
       "\n",
       "[5 rows x 31 columns]"
      ]
     },
     "execution_count": 7,
     "metadata": {},
     "output_type": "execute_result"
    }
   ],
   "source": [
    "turbine_2.tail()"
   ]
  },
  {
   "cell_type": "code",
   "execution_count": 8,
   "metadata": {},
   "outputs": [
    {
     "data": {
      "text/plain": [
       "(13104, 31)"
      ]
     },
     "execution_count": 8,
     "metadata": {},
     "output_type": "execute_result"
    }
   ],
   "source": [
    "turbine_2.shape"
   ]
  },
  {
   "cell_type": "code",
   "execution_count": 9,
   "metadata": {},
   "outputs": [
    {
     "data": {
      "text/plain": [
       "         Dat/Zeit    object\n",
       "  Wind               object\n",
       "Rotor                object\n",
       "Leistung             object\n",
       "Azimut               object\n",
       "   Prod. 1           object\n",
       "   Prod. 2           object\n",
       "BtrStd 1             object\n",
       "BtrStd 2             object\n",
       "Gen1-                object\n",
       "Lager                object\n",
       "Außen                object\n",
       "GetrT                object\n",
       " Status              object\n",
       "Spann                object\n",
       "Spann.1              object\n",
       "Spann.2              object\n",
       "Strom-               object\n",
       "Strom-.1             object\n",
       "Strom-.2             object\n",
       "CosPh                object\n",
       "    Abgabe           object\n",
       "     Bezug           object\n",
       "  KH-Zähl1           object\n",
       "  KH-Zähl2           object\n",
       "  KH-DigiE           object\n",
       "  KH-DigiI           object\n",
       "  KH-Ana-1           object\n",
       "  KH-Ana-2           object\n",
       "  KH-Ana-3           object\n",
       "  KH-Ana-4           object\n",
       "dtype: object"
      ]
     },
     "execution_count": 9,
     "metadata": {},
     "output_type": "execute_result"
    }
   ],
   "source": [
    "turbine_2.dtypes"
   ]
  },
  {
   "cell_type": "markdown",
   "metadata": {},
   "source": [
    "## Missing Value"
   ]
  },
  {
   "cell_type": "markdown",
   "metadata": {},
   "source": [
    "#### Turbine 1"
   ]
  },
  {
   "cell_type": "code",
   "execution_count": 10,
   "metadata": {},
   "outputs": [
    {
     "data": {
      "text/plain": [
       "         Dat/Zeit    0\n",
       "  Wind               0\n",
       "Rotor                0\n",
       "Leistung             0\n",
       "Azimut               0\n",
       "   Prod. 1           0\n",
       "   Prod. 2           0\n",
       "BtrStd 1             0\n",
       "BtrStd 2             0\n",
       "Gen1-                0\n",
       "Lager                0\n",
       "Außen                0\n",
       "GetrT                0\n",
       " Status              0\n",
       "Spann                0\n",
       "Spann.1              0\n",
       "Spann.2              0\n",
       "Strom-               0\n",
       "Strom-.1             0\n",
       "Strom-.2             0\n",
       "CosPh                0\n",
       "    Abgabe           0\n",
       "     Bezug           0\n",
       "  KH-Zähl1           0\n",
       "  KH-Zähl2           0\n",
       "  KH-DigiE           0\n",
       "  KH-DigiI           0\n",
       "  KH-Ana-1           0\n",
       "  KH-Ana-2           0\n",
       "  KH-Ana-3           0\n",
       "  KH-Ana-4           0\n",
       "dtype: int64"
      ]
     },
     "execution_count": 10,
     "metadata": {},
     "output_type": "execute_result"
    }
   ],
   "source": [
    "missing_value_T1_sum = turbine_1.isnull().sum()\n",
    "missing_value_T1_sum"
   ]
  },
  {
   "cell_type": "markdown",
   "metadata": {},
   "source": [
    "#### Turbine 2"
   ]
  },
  {
   "cell_type": "code",
   "execution_count": 11,
   "metadata": {},
   "outputs": [
    {
     "data": {
      "text/plain": [
       "         Dat/Zeit    0\n",
       "  Wind               0\n",
       "Rotor                0\n",
       "Leistung             0\n",
       "Azimut               0\n",
       "   Prod. 1           0\n",
       "   Prod. 2           0\n",
       "BtrStd 1             0\n",
       "BtrStd 2             0\n",
       "Gen1-                0\n",
       "Lager                0\n",
       "Außen                0\n",
       "GetrT                0\n",
       " Status              0\n",
       "Spann                0\n",
       "Spann.1              0\n",
       "Spann.2              0\n",
       "Strom-               0\n",
       "Strom-.1             0\n",
       "Strom-.2             0\n",
       "CosPh                0\n",
       "    Abgabe           0\n",
       "     Bezug           0\n",
       "  KH-Zähl1           0\n",
       "  KH-Zähl2           0\n",
       "  KH-DigiE           0\n",
       "  KH-DigiI           0\n",
       "  KH-Ana-1           0\n",
       "  KH-Ana-2           0\n",
       "  KH-Ana-3           0\n",
       "  KH-Ana-4           0\n",
       "dtype: int64"
      ]
     },
     "execution_count": 11,
     "metadata": {},
     "output_type": "execute_result"
    }
   ],
   "source": [
    "missing_value_T2_sum = turbine_2.isnull().sum()\n",
    "missing_value_T2_sum"
   ]
  },
  {
   "cell_type": "markdown",
   "metadata": {},
   "source": [
    "## Fix Column"
   ]
  },
  {
   "cell_type": "code",
   "execution_count": 12,
   "metadata": {},
   "outputs": [
    {
     "data": {
      "text/plain": [
       "Index(['Dat/Zeit', 'Wind', 'Rotor', 'Leistung', 'Azimut', 'Prod. 1', 'Prod. 2',\n",
       "       'BtrStd 1', 'BtrStd 2', 'Gen1-', 'Lager', 'Außen', 'GetrT', 'Status',\n",
       "       'Spann', 'Spann.1', 'Spann.2', 'Strom-', 'Strom-.1', 'Strom-.2',\n",
       "       'CosPh', 'Abgabe', 'Bezug', 'KH-Zähl1', 'KH-Zähl2', 'KH-DigiE',\n",
       "       'KH-DigiI', 'KH-Ana-1', 'KH-Ana-2', 'KH-Ana-3', 'KH-Ana-4'],\n",
       "      dtype='object')"
      ]
     },
     "execution_count": 12,
     "metadata": {},
     "output_type": "execute_result"
    }
   ],
   "source": [
    "turbine_1.columns = turbine_1.columns.str.strip()\n",
    "turbine_1.columns"
   ]
  },
  {
   "cell_type": "code",
   "execution_count": 13,
   "metadata": {},
   "outputs": [
    {
     "data": {
      "text/plain": [
       "Index(['Dat/Zeit', 'Wind', 'Rotor', 'Leistung', 'Azimut', 'Prod. 1', 'Prod. 2',\n",
       "       'BtrStd 1', 'BtrStd 2', 'Gen1-', 'Lager', 'Außen', 'GetrT', 'Status',\n",
       "       'Spann', 'Spann.1', 'Spann.2', 'Strom-', 'Strom-.1', 'Strom-.2',\n",
       "       'CosPh', 'Abgabe', 'Bezug', 'KH-Zähl1', 'KH-Zähl2', 'KH-DigiE',\n",
       "       'KH-DigiI', 'KH-Ana-1', 'KH-Ana-2', 'KH-Ana-3', 'KH-Ana-4'],\n",
       "      dtype='object')"
      ]
     },
     "execution_count": 13,
     "metadata": {},
     "output_type": "execute_result"
    }
   ],
   "source": [
    "turbine_2.columns = turbine_2.columns.str.strip()\n",
    "turbine_2.columns"
   ]
  },
  {
   "cell_type": "code",
   "execution_count": 14,
   "metadata": {},
   "outputs": [
    {
     "data": {
      "text/plain": [
       "['Dat/Zeit',\n",
       " 'Wind',\n",
       " 'Rotor',\n",
       " 'Leistung',\n",
       " 'Azimut',\n",
       " 'Prod. 1',\n",
       " 'Prod. 2',\n",
       " 'BtrStd 1',\n",
       " 'BtrStd 2',\n",
       " 'Gen1-',\n",
       " 'Lager',\n",
       " 'Außen',\n",
       " 'GetrT',\n",
       " 'Status',\n",
       " 'Spann',\n",
       " 'Spann.1',\n",
       " 'Spann.2',\n",
       " 'Strom-',\n",
       " 'Strom-.1',\n",
       " 'Strom-.2',\n",
       " 'CosPh',\n",
       " 'Abgabe',\n",
       " 'Bezug',\n",
       " 'KH-Zähl1',\n",
       " 'KH-Zähl2',\n",
       " 'KH-DigiE',\n",
       " 'KH-DigiI',\n",
       " 'KH-Ana-1',\n",
       " 'KH-Ana-2',\n",
       " 'KH-Ana-3',\n",
       " 'KH-Ana-4']"
      ]
     },
     "execution_count": 14,
     "metadata": {},
     "output_type": "execute_result"
    }
   ],
   "source": [
    "list(turbine_2.columns)"
   ]
  },
  {
   "cell_type": "code",
   "execution_count": 15,
   "metadata": {},
   "outputs": [],
   "source": [
    "is_numeric = turbine_2[\"Dat/Zeit\"].astype(str).str.isnumeric()"
   ]
  },
  {
   "cell_type": "code",
   "execution_count": 16,
   "metadata": {},
   "outputs": [
    {
     "data": {
      "text/plain": [
       "True"
      ]
     },
     "execution_count": 16,
     "metadata": {},
     "output_type": "execute_result"
    }
   ],
   "source": [
    "True in is_numeric"
   ]
  },
  {
   "cell_type": "code",
   "execution_count": 17,
   "metadata": {},
   "outputs": [
    {
     "data": {
      "text/plain": [
       "0        False\n",
       "1        False\n",
       "2        False\n",
       "3        False\n",
       "4        False\n",
       "         ...  \n",
       "13099    False\n",
       "13100    False\n",
       "13101    False\n",
       "13102    False\n",
       "13103    False\n",
       "Name: Dat/Zeit, Length: 13104, dtype: bool"
      ]
     },
     "execution_count": 17,
     "metadata": {},
     "output_type": "execute_result"
    }
   ],
   "source": [
    "is_numeric"
   ]
  },
  {
   "cell_type": "code",
   "execution_count": 18,
   "metadata": {},
   "outputs": [
    {
     "ename": "KeyError",
     "evalue": "'  KH-Ana-4'",
     "output_type": "error",
     "traceback": [
      "\u001b[0;31m---------------------------------------------------------------------------\u001b[0m",
      "\u001b[0;31mKeyError\u001b[0m                                  Traceback (most recent call last)",
      "\u001b[0;32m~/miniconda3/envs/turbit/lib/python3.7/site-packages/pandas/core/indexes/base.py\u001b[0m in \u001b[0;36mget_loc\u001b[0;34m(self, key, method, tolerance)\u001b[0m\n\u001b[1;32m   3360\u001b[0m             \u001b[0;32mtry\u001b[0m\u001b[0;34m:\u001b[0m\u001b[0;34m\u001b[0m\u001b[0;34m\u001b[0m\u001b[0m\n\u001b[0;32m-> 3361\u001b[0;31m                 \u001b[0;32mreturn\u001b[0m \u001b[0mself\u001b[0m\u001b[0;34m.\u001b[0m\u001b[0m_engine\u001b[0m\u001b[0;34m.\u001b[0m\u001b[0mget_loc\u001b[0m\u001b[0;34m(\u001b[0m\u001b[0mcasted_key\u001b[0m\u001b[0;34m)\u001b[0m\u001b[0;34m\u001b[0m\u001b[0;34m\u001b[0m\u001b[0m\n\u001b[0m\u001b[1;32m   3362\u001b[0m             \u001b[0;32mexcept\u001b[0m \u001b[0mKeyError\u001b[0m \u001b[0;32mas\u001b[0m \u001b[0merr\u001b[0m\u001b[0;34m:\u001b[0m\u001b[0;34m\u001b[0m\u001b[0;34m\u001b[0m\u001b[0m\n",
      "\u001b[0;32m~/miniconda3/envs/turbit/lib/python3.7/site-packages/pandas/_libs/index.pyx\u001b[0m in \u001b[0;36mpandas._libs.index.IndexEngine.get_loc\u001b[0;34m()\u001b[0m\n",
      "\u001b[0;32m~/miniconda3/envs/turbit/lib/python3.7/site-packages/pandas/_libs/index.pyx\u001b[0m in \u001b[0;36mpandas._libs.index.IndexEngine.get_loc\u001b[0;34m()\u001b[0m\n",
      "\u001b[0;32mpandas/_libs/hashtable_class_helper.pxi\u001b[0m in \u001b[0;36mpandas._libs.hashtable.PyObjectHashTable.get_item\u001b[0;34m()\u001b[0m\n",
      "\u001b[0;32mpandas/_libs/hashtable_class_helper.pxi\u001b[0m in \u001b[0;36mpandas._libs.hashtable.PyObjectHashTable.get_item\u001b[0;34m()\u001b[0m\n",
      "\u001b[0;31mKeyError\u001b[0m: '  KH-Ana-4'",
      "\nThe above exception was the direct cause of the following exception:\n",
      "\u001b[0;31mKeyError\u001b[0m                                  Traceback (most recent call last)",
      "\u001b[0;32m/tmp/ipykernel_4745/3147460847.py\u001b[0m in \u001b[0;36m<module>\u001b[0;34m\u001b[0m\n\u001b[0;32m----> 1\u001b[0;31m \u001b[0mturbine_2\u001b[0m\u001b[0;34m[\u001b[0m\u001b[0;34m\"  KH-Ana-4\"\u001b[0m\u001b[0;34m]\u001b[0m\u001b[0;34m[\u001b[0m\u001b[0mis_numeric\u001b[0m \u001b[0;34m==\u001b[0m \u001b[0;32mFalse\u001b[0m\u001b[0;34m]\u001b[0m\u001b[0;34m\u001b[0m\u001b[0;34m\u001b[0m\u001b[0m\n\u001b[0m",
      "\u001b[0;32m~/miniconda3/envs/turbit/lib/python3.7/site-packages/pandas/core/frame.py\u001b[0m in \u001b[0;36m__getitem__\u001b[0;34m(self, key)\u001b[0m\n\u001b[1;32m   3456\u001b[0m             \u001b[0;32mif\u001b[0m \u001b[0mself\u001b[0m\u001b[0;34m.\u001b[0m\u001b[0mcolumns\u001b[0m\u001b[0;34m.\u001b[0m\u001b[0mnlevels\u001b[0m \u001b[0;34m>\u001b[0m \u001b[0;36m1\u001b[0m\u001b[0;34m:\u001b[0m\u001b[0;34m\u001b[0m\u001b[0;34m\u001b[0m\u001b[0m\n\u001b[1;32m   3457\u001b[0m                 \u001b[0;32mreturn\u001b[0m \u001b[0mself\u001b[0m\u001b[0;34m.\u001b[0m\u001b[0m_getitem_multilevel\u001b[0m\u001b[0;34m(\u001b[0m\u001b[0mkey\u001b[0m\u001b[0;34m)\u001b[0m\u001b[0;34m\u001b[0m\u001b[0;34m\u001b[0m\u001b[0m\n\u001b[0;32m-> 3458\u001b[0;31m             \u001b[0mindexer\u001b[0m \u001b[0;34m=\u001b[0m \u001b[0mself\u001b[0m\u001b[0;34m.\u001b[0m\u001b[0mcolumns\u001b[0m\u001b[0;34m.\u001b[0m\u001b[0mget_loc\u001b[0m\u001b[0;34m(\u001b[0m\u001b[0mkey\u001b[0m\u001b[0;34m)\u001b[0m\u001b[0;34m\u001b[0m\u001b[0;34m\u001b[0m\u001b[0m\n\u001b[0m\u001b[1;32m   3459\u001b[0m             \u001b[0;32mif\u001b[0m \u001b[0mis_integer\u001b[0m\u001b[0;34m(\u001b[0m\u001b[0mindexer\u001b[0m\u001b[0;34m)\u001b[0m\u001b[0;34m:\u001b[0m\u001b[0;34m\u001b[0m\u001b[0;34m\u001b[0m\u001b[0m\n\u001b[1;32m   3460\u001b[0m                 \u001b[0mindexer\u001b[0m \u001b[0;34m=\u001b[0m \u001b[0;34m[\u001b[0m\u001b[0mindexer\u001b[0m\u001b[0;34m]\u001b[0m\u001b[0;34m\u001b[0m\u001b[0;34m\u001b[0m\u001b[0m\n",
      "\u001b[0;32m~/miniconda3/envs/turbit/lib/python3.7/site-packages/pandas/core/indexes/base.py\u001b[0m in \u001b[0;36mget_loc\u001b[0;34m(self, key, method, tolerance)\u001b[0m\n\u001b[1;32m   3361\u001b[0m                 \u001b[0;32mreturn\u001b[0m \u001b[0mself\u001b[0m\u001b[0;34m.\u001b[0m\u001b[0m_engine\u001b[0m\u001b[0;34m.\u001b[0m\u001b[0mget_loc\u001b[0m\u001b[0;34m(\u001b[0m\u001b[0mcasted_key\u001b[0m\u001b[0;34m)\u001b[0m\u001b[0;34m\u001b[0m\u001b[0;34m\u001b[0m\u001b[0m\n\u001b[1;32m   3362\u001b[0m             \u001b[0;32mexcept\u001b[0m \u001b[0mKeyError\u001b[0m \u001b[0;32mas\u001b[0m \u001b[0merr\u001b[0m\u001b[0;34m:\u001b[0m\u001b[0;34m\u001b[0m\u001b[0;34m\u001b[0m\u001b[0m\n\u001b[0;32m-> 3363\u001b[0;31m                 \u001b[0;32mraise\u001b[0m \u001b[0mKeyError\u001b[0m\u001b[0;34m(\u001b[0m\u001b[0mkey\u001b[0m\u001b[0;34m)\u001b[0m \u001b[0;32mfrom\u001b[0m \u001b[0merr\u001b[0m\u001b[0;34m\u001b[0m\u001b[0;34m\u001b[0m\u001b[0m\n\u001b[0m\u001b[1;32m   3364\u001b[0m \u001b[0;34m\u001b[0m\u001b[0m\n\u001b[1;32m   3365\u001b[0m         \u001b[0;32mif\u001b[0m \u001b[0mis_scalar\u001b[0m\u001b[0;34m(\u001b[0m\u001b[0mkey\u001b[0m\u001b[0;34m)\u001b[0m \u001b[0;32mand\u001b[0m \u001b[0misna\u001b[0m\u001b[0;34m(\u001b[0m\u001b[0mkey\u001b[0m\u001b[0;34m)\u001b[0m \u001b[0;32mand\u001b[0m \u001b[0;32mnot\u001b[0m \u001b[0mself\u001b[0m\u001b[0;34m.\u001b[0m\u001b[0mhasnans\u001b[0m\u001b[0;34m:\u001b[0m\u001b[0;34m\u001b[0m\u001b[0;34m\u001b[0m\u001b[0m\n",
      "\u001b[0;31mKeyError\u001b[0m: '  KH-Ana-4'"
     ]
    }
   ],
   "source": [
    "turbine_2[\"  KH-Ana-4\"][is_numeric == False]"
   ]
  },
  {
   "cell_type": "code",
   "execution_count": null,
   "metadata": {},
   "outputs": [
    {
     "name": "stdout",
     "output_type": "stream",
     "text": [
      "13103\n"
     ]
    }
   ],
   "source": [
    "print(is_numeric.value_counts()[True])"
   ]
  },
  {
   "cell_type": "code",
   "execution_count": null,
   "metadata": {},
   "outputs": [
    {
     "data": {
      "text/plain": [
       "[0]"
      ]
     },
     "execution_count": 40,
     "metadata": {},
     "output_type": "execute_result"
    }
   ],
   "source": [
    "is_numeric.index[is_numeric == False].to_list()"
   ]
  },
  {
   "cell_type": "code",
   "execution_count": null,
   "metadata": {},
   "outputs": [
    {
     "data": {
      "text/plain": [
       "13103"
      ]
     },
     "execution_count": 43,
     "metadata": {},
     "output_type": "execute_result"
    }
   ],
   "source": [
    "is_numeric.value_counts()[True]"
   ]
  },
  {
   "cell_type": "code",
   "execution_count": null,
   "metadata": {},
   "outputs": [
    {
     "data": {
      "text/html": [
       "<div>\n",
       "<style scoped>\n",
       "    .dataframe tbody tr th:only-of-type {\n",
       "        vertical-align: middle;\n",
       "    }\n",
       "\n",
       "    .dataframe tbody tr th {\n",
       "        vertical-align: top;\n",
       "    }\n",
       "\n",
       "    .dataframe thead th {\n",
       "        text-align: right;\n",
       "    }\n",
       "</style>\n",
       "<table border=\"1\" class=\"dataframe\">\n",
       "  <thead>\n",
       "    <tr style=\"text-align: right;\">\n",
       "      <th></th>\n",
       "      <th>Dat/Zeit</th>\n",
       "      <th>Wind</th>\n",
       "      <th>Rotor</th>\n",
       "      <th>Leistung</th>\n",
       "      <th>Azimut</th>\n",
       "      <th>Prod. 1</th>\n",
       "      <th>Prod. 2</th>\n",
       "      <th>BtrStd 1</th>\n",
       "      <th>BtrStd 2</th>\n",
       "      <th>Gen1-</th>\n",
       "      <th>...</th>\n",
       "      <th>Bezug</th>\n",
       "      <th>KH-Zähl1</th>\n",
       "      <th>KH-Zähl2</th>\n",
       "      <th>KH-DigiE</th>\n",
       "      <th>KH-DigiI</th>\n",
       "      <th>KH-Ana-1</th>\n",
       "      <th>KH-Ana-2</th>\n",
       "      <th>KH-Ana-3</th>\n",
       "      <th>KH-Ana-4</th>\n",
       "      <th>test</th>\n",
       "    </tr>\n",
       "  </thead>\n",
       "  <tbody>\n",
       "    <tr>\n",
       "      <th>0</th>\n",
       "      <td></td>\n",
       "      <td>m/s</td>\n",
       "      <td>rpm</td>\n",
       "      <td>kW</td>\n",
       "      <td>°</td>\n",
       "      <td>kWh</td>\n",
       "      <td>kWh</td>\n",
       "      <td>h</td>\n",
       "      <td>h</td>\n",
       "      <td>°C</td>\n",
       "      <td>...</td>\n",
       "      <td>kWh</td>\n",
       "      <td>Imp</td>\n",
       "      <td>Imp</td>\n",
       "      <td>Bit</td>\n",
       "      <td>Bit</td>\n",
       "      <td></td>\n",
       "      <td></td>\n",
       "      <td></td>\n",
       "      <td></td>\n",
       "      <td>1000</td>\n",
       "    </tr>\n",
       "    <tr>\n",
       "      <th>1</th>\n",
       "      <td>01.01.2016, 00:10</td>\n",
       "      <td>4,2</td>\n",
       "      <td>10</td>\n",
       "      <td>139,3</td>\n",
       "      <td>161,7</td>\n",
       "      <td>33270717</td>\n",
       "      <td>1712034</td>\n",
       "      <td>48925</td>\n",
       "      <td>45171</td>\n",
       "      <td>14,5</td>\n",
       "      <td>...</td>\n",
       "      <td>0</td>\n",
       "      <td>0</td>\n",
       "      <td>0</td>\n",
       "      <td>0</td>\n",
       "      <td>0</td>\n",
       "      <td>0</td>\n",
       "      <td>0</td>\n",
       "      <td>0</td>\n",
       "      <td>0</td>\n",
       "      <td>1000</td>\n",
       "    </tr>\n",
       "    <tr>\n",
       "      <th>2</th>\n",
       "      <td>01.01.2016, 00:20</td>\n",
       "      <td>4,2</td>\n",
       "      <td>10</td>\n",
       "      <td>139,3</td>\n",
       "      <td>161,7</td>\n",
       "      <td>33270717</td>\n",
       "      <td>1712034</td>\n",
       "      <td>48925</td>\n",
       "      <td>45171</td>\n",
       "      <td>14,5</td>\n",
       "      <td>...</td>\n",
       "      <td>0</td>\n",
       "      <td>0</td>\n",
       "      <td>0</td>\n",
       "      <td>0</td>\n",
       "      <td>0</td>\n",
       "      <td>0</td>\n",
       "      <td>0</td>\n",
       "      <td>0</td>\n",
       "      <td>0</td>\n",
       "      <td>1000</td>\n",
       "    </tr>\n",
       "    <tr>\n",
       "      <th>3</th>\n",
       "      <td>01.01.2016, 00:30</td>\n",
       "      <td>4,4</td>\n",
       "      <td>10</td>\n",
       "      <td>162,1</td>\n",
       "      <td>160,8</td>\n",
       "      <td>33270717</td>\n",
       "      <td>1712059</td>\n",
       "      <td>48925</td>\n",
       "      <td>45171</td>\n",
       "      <td>14</td>\n",
       "      <td>...</td>\n",
       "      <td>0</td>\n",
       "      <td>0</td>\n",
       "      <td>0</td>\n",
       "      <td>0</td>\n",
       "      <td>0</td>\n",
       "      <td>0</td>\n",
       "      <td>0</td>\n",
       "      <td>0</td>\n",
       "      <td>0</td>\n",
       "      <td>1000</td>\n",
       "    </tr>\n",
       "    <tr>\n",
       "      <th>4</th>\n",
       "      <td>01.01.2016, 00:40</td>\n",
       "      <td>5,4</td>\n",
       "      <td>10</td>\n",
       "      <td>265,1</td>\n",
       "      <td>161,3</td>\n",
       "      <td>33270717</td>\n",
       "      <td>1712105</td>\n",
       "      <td>48925</td>\n",
       "      <td>45171</td>\n",
       "      <td>14,8</td>\n",
       "      <td>...</td>\n",
       "      <td>0</td>\n",
       "      <td>0</td>\n",
       "      <td>0</td>\n",
       "      <td>0</td>\n",
       "      <td>0</td>\n",
       "      <td>0</td>\n",
       "      <td>0</td>\n",
       "      <td>0</td>\n",
       "      <td>0</td>\n",
       "      <td>1000</td>\n",
       "    </tr>\n",
       "  </tbody>\n",
       "</table>\n",
       "<p>5 rows × 32 columns</p>\n",
       "</div>"
      ],
      "text/plain": [
       "            Dat/Zeit    Wind  Rotor  Leistung  Azimut     Prod. 1     Prod. 2  \\\n",
       "0                        m/s    rpm        kW       °         kWh         kWh   \n",
       "1  01.01.2016, 00:10     4,2     10     139,3   161,7    33270717     1712034   \n",
       "2  01.01.2016, 00:20     4,2     10     139,3   161,7    33270717     1712034   \n",
       "3  01.01.2016, 00:30     4,4     10     162,1   160,8    33270717     1712059   \n",
       "4  01.01.2016, 00:40     5,4     10     265,1   161,3    33270717     1712105   \n",
       "\n",
       "   BtrStd 1  BtrStd 2  Gen1-  ...       Bezug    KH-Zähl1    KH-Zähl2  \\\n",
       "0         h         h     °C  ...         kWh         Imp         Imp   \n",
       "1     48925     45171   14,5  ...           0           0           0   \n",
       "2     48925     45171   14,5  ...           0           0           0   \n",
       "3     48925     45171     14  ...           0           0           0   \n",
       "4     48925     45171   14,8  ...           0           0           0   \n",
       "\n",
       "     KH-DigiE    KH-DigiI    KH-Ana-1    KH-Ana-2    KH-Ana-3    KH-Ana-4  \\\n",
       "0         Bit         Bit                                                   \n",
       "1           0           0           0           0           0           0   \n",
       "2           0           0           0           0           0           0   \n",
       "3           0           0           0           0           0           0   \n",
       "4           0           0           0           0           0           0   \n",
       "\n",
       "   test  \n",
       "0  1000  \n",
       "1  1000  \n",
       "2  1000  \n",
       "3  1000  \n",
       "4  1000  \n",
       "\n",
       "[5 rows x 32 columns]"
      ]
     },
     "execution_count": 66,
     "metadata": {},
     "output_type": "execute_result"
    }
   ],
   "source": [
    "turbine_2.head()"
   ]
  },
  {
   "cell_type": "code",
   "execution_count": null,
   "metadata": {},
   "outputs": [],
   "source": [
    "turbine_2[\"test\"] = 1000"
   ]
  },
  {
   "cell_type": "markdown",
   "metadata": {},
   "source": [
    "### Convert pd.Timestamp to datetime"
   ]
  },
  {
   "cell_type": "code",
   "execution_count": 3,
   "metadata": {},
   "outputs": [
    {
     "data": {
      "text/html": [
       "<div>\n",
       "<style scoped>\n",
       "    .dataframe tbody tr th:only-of-type {\n",
       "        vertical-align: middle;\n",
       "    }\n",
       "\n",
       "    .dataframe tbody tr th {\n",
       "        vertical-align: top;\n",
       "    }\n",
       "\n",
       "    .dataframe thead th {\n",
       "        text-align: right;\n",
       "    }\n",
       "</style>\n",
       "<table border=\"1\" class=\"dataframe\">\n",
       "  <thead>\n",
       "    <tr style=\"text-align: right;\">\n",
       "      <th></th>\n",
       "      <th>Dat/Zeit</th>\n",
       "      <th>Wind</th>\n",
       "      <th>Rotor</th>\n",
       "      <th>Leistung</th>\n",
       "      <th>Azimut</th>\n",
       "      <th>Prod. 1</th>\n",
       "      <th>Prod. 2</th>\n",
       "      <th>BtrStd 1</th>\n",
       "      <th>BtrStd 2</th>\n",
       "      <th>Gen1-</th>\n",
       "      <th>...</th>\n",
       "      <th>Spann.2 unit</th>\n",
       "      <th>Strom- unit</th>\n",
       "      <th>Strom-.1 unit</th>\n",
       "      <th>Strom-.2 unit</th>\n",
       "      <th>Abgabe unit</th>\n",
       "      <th>Bezug unit</th>\n",
       "      <th>KH-Zähl1 unit</th>\n",
       "      <th>KH-Zähl2 unit</th>\n",
       "      <th>KH-DigiE unit</th>\n",
       "      <th>KH-DigiI unit</th>\n",
       "    </tr>\n",
       "  </thead>\n",
       "  <tbody>\n",
       "    <tr>\n",
       "      <th>0</th>\n",
       "      <td>01.01.2016, 00:10</td>\n",
       "      <td>4,2</td>\n",
       "      <td>10</td>\n",
       "      <td>139,3</td>\n",
       "      <td>161,7</td>\n",
       "      <td>33270717</td>\n",
       "      <td>1712034</td>\n",
       "      <td>48925</td>\n",
       "      <td>45171</td>\n",
       "      <td>14,5</td>\n",
       "      <td>...</td>\n",
       "      <td>V</td>\n",
       "      <td>A</td>\n",
       "      <td>A</td>\n",
       "      <td>A</td>\n",
       "      <td>kWh</td>\n",
       "      <td>kWh</td>\n",
       "      <td>Imp</td>\n",
       "      <td>Imp</td>\n",
       "      <td>Bit</td>\n",
       "      <td>Bit</td>\n",
       "    </tr>\n",
       "    <tr>\n",
       "      <th>1</th>\n",
       "      <td>01.01.2016, 00:20</td>\n",
       "      <td>4,2</td>\n",
       "      <td>10</td>\n",
       "      <td>139,3</td>\n",
       "      <td>161,7</td>\n",
       "      <td>33270717</td>\n",
       "      <td>1712034</td>\n",
       "      <td>48925</td>\n",
       "      <td>45171</td>\n",
       "      <td>14,5</td>\n",
       "      <td>...</td>\n",
       "      <td>V</td>\n",
       "      <td>A</td>\n",
       "      <td>A</td>\n",
       "      <td>A</td>\n",
       "      <td>kWh</td>\n",
       "      <td>kWh</td>\n",
       "      <td>Imp</td>\n",
       "      <td>Imp</td>\n",
       "      <td>Bit</td>\n",
       "      <td>Bit</td>\n",
       "    </tr>\n",
       "    <tr>\n",
       "      <th>2</th>\n",
       "      <td>01.01.2016, 00:30</td>\n",
       "      <td>4,4</td>\n",
       "      <td>10</td>\n",
       "      <td>162,1</td>\n",
       "      <td>160,8</td>\n",
       "      <td>33270717</td>\n",
       "      <td>1712059</td>\n",
       "      <td>48925</td>\n",
       "      <td>45171</td>\n",
       "      <td>14</td>\n",
       "      <td>...</td>\n",
       "      <td>V</td>\n",
       "      <td>A</td>\n",
       "      <td>A</td>\n",
       "      <td>A</td>\n",
       "      <td>kWh</td>\n",
       "      <td>kWh</td>\n",
       "      <td>Imp</td>\n",
       "      <td>Imp</td>\n",
       "      <td>Bit</td>\n",
       "      <td>Bit</td>\n",
       "    </tr>\n",
       "    <tr>\n",
       "      <th>3</th>\n",
       "      <td>01.01.2016, 00:40</td>\n",
       "      <td>5,4</td>\n",
       "      <td>10</td>\n",
       "      <td>265,1</td>\n",
       "      <td>161,3</td>\n",
       "      <td>33270717</td>\n",
       "      <td>1712105</td>\n",
       "      <td>48925</td>\n",
       "      <td>45171</td>\n",
       "      <td>14,8</td>\n",
       "      <td>...</td>\n",
       "      <td>V</td>\n",
       "      <td>A</td>\n",
       "      <td>A</td>\n",
       "      <td>A</td>\n",
       "      <td>kWh</td>\n",
       "      <td>kWh</td>\n",
       "      <td>Imp</td>\n",
       "      <td>Imp</td>\n",
       "      <td>Bit</td>\n",
       "      <td>Bit</td>\n",
       "    </tr>\n",
       "    <tr>\n",
       "      <th>4</th>\n",
       "      <td>01.01.2016, 00:50</td>\n",
       "      <td>5,3</td>\n",
       "      <td>10</td>\n",
       "      <td>283,8</td>\n",
       "      <td>161,2</td>\n",
       "      <td>33270717</td>\n",
       "      <td>1712147</td>\n",
       "      <td>48925</td>\n",
       "      <td>45172</td>\n",
       "      <td>17</td>\n",
       "      <td>...</td>\n",
       "      <td>V</td>\n",
       "      <td>A</td>\n",
       "      <td>A</td>\n",
       "      <td>A</td>\n",
       "      <td>kWh</td>\n",
       "      <td>kWh</td>\n",
       "      <td>Imp</td>\n",
       "      <td>Imp</td>\n",
       "      <td>Bit</td>\n",
       "      <td>Bit</td>\n",
       "    </tr>\n",
       "  </tbody>\n",
       "</table>\n",
       "<p>5 rows × 55 columns</p>\n",
       "</div>"
      ],
      "text/plain": [
       "            Dat/Zeit Wind Rotor Leistung Azimut   Prod. 1  Prod. 2 BtrStd 1  \\\n",
       "0  01.01.2016, 00:10  4,2    10    139,3  161,7  33270717  1712034    48925   \n",
       "1  01.01.2016, 00:20  4,2    10    139,3  161,7  33270717  1712034    48925   \n",
       "2  01.01.2016, 00:30  4,4    10    162,1  160,8  33270717  1712059    48925   \n",
       "3  01.01.2016, 00:40  5,4    10    265,1  161,3  33270717  1712105    48925   \n",
       "4  01.01.2016, 00:50  5,3    10    283,8  161,2  33270717  1712147    48925   \n",
       "\n",
       "  BtrStd 2 Gen1-  ... Spann.2 unit Strom- unit Strom-.1 unit Strom-.2 unit  \\\n",
       "0    45171  14,5  ...            V           A             A             A   \n",
       "1    45171  14,5  ...            V           A             A             A   \n",
       "2    45171    14  ...            V           A             A             A   \n",
       "3    45171  14,8  ...            V           A             A             A   \n",
       "4    45172    17  ...            V           A             A             A   \n",
       "\n",
       "  Abgabe unit Bezug unit KH-Zähl1 unit KH-Zähl2 unit KH-DigiE unit  \\\n",
       "0         kWh        kWh           Imp           Imp           Bit   \n",
       "1         kWh        kWh           Imp           Imp           Bit   \n",
       "2         kWh        kWh           Imp           Imp           Bit   \n",
       "3         kWh        kWh           Imp           Imp           Bit   \n",
       "4         kWh        kWh           Imp           Imp           Bit   \n",
       "\n",
       "  KH-DigiI unit  \n",
       "0           Bit  \n",
       "1           Bit  \n",
       "2           Bit  \n",
       "3           Bit  \n",
       "4           Bit  \n",
       "\n",
       "[5 rows x 55 columns]"
      ]
     },
     "execution_count": 3,
     "metadata": {},
     "output_type": "execute_result"
    }
   ],
   "source": [
    "turbine_2 = pd.read_csv(\"raw/Turbine2.csv\", sep=\";\", decimal=\",\")\n",
    "\n",
    "turbine_2.columns = turbine_2.columns.str.strip()\n",
    "\n",
    "\n",
    "units = turbine_2.iloc[0]\n",
    "units = units.str.strip()\n",
    "units = units.replace(\"\", np.nan)\n",
    "units = units.dropna()\n",
    "for col in list(turbine_2.columns):\n",
    "    if col in list(units.index):\n",
    "        col_unit_name = col+\" unit\"\n",
    "        turbine_2[col_unit_name] = units[col]\n",
    "\n",
    "turbine_2 = turbine_2.drop([0]).reset_index(drop=True)\n",
    "\n",
    "# turbine_2['Dat/Zeit'] = pd.to_datetime(turbine_2['Dat/Zeit'], format=\"%d.%m.%Y, %H:%M\")\n",
    "\n",
    "turbine_2.head()"
   ]
  },
  {
   "cell_type": "code",
   "execution_count": 29,
   "metadata": {},
   "outputs": [
    {
     "data": {
      "text/plain": [
       "Timestamp('2016-01-01 00:10:00')"
      ]
     },
     "execution_count": 29,
     "metadata": {},
     "output_type": "execute_result"
    }
   ],
   "source": [
    "pd.to_datetime(turbine_2['Dat/Zeit'][0], format=\"%d.%m.%Y, %H:%M\")"
   ]
  },
  {
   "cell_type": "code",
   "execution_count": 22,
   "metadata": {},
   "outputs": [
    {
     "name": "stdout",
     "output_type": "stream",
     "text": [
      "Wind unit\n",
      "['Wind', '']\n",
      "Rotor unit\n",
      "['Rotor', '']\n",
      "Leistung unit\n",
      "['Leistung', '']\n",
      "Azimut unit\n",
      "['Azimut', '']\n",
      "Prod. 1 unit\n",
      "['Prod. 1', '']\n",
      "Prod. 2 unit\n",
      "['Prod. 2', '']\n",
      "BtrStd 1 unit\n",
      "['BtrStd 1', '']\n",
      "BtrStd 2 unit\n",
      "['BtrStd 2', '']\n",
      "Gen1- unit\n",
      "['Gen1-', '']\n",
      "Lager unit\n",
      "['Lager', '']\n",
      "Außen unit\n",
      "['Außen', '']\n",
      "GetrT unit\n",
      "['GetrT', '']\n",
      "Spann unit\n",
      "['Spann', '']\n",
      "Spann.1 unit\n",
      "['Spann.1', '']\n",
      "Spann.2 unit\n",
      "['Spann.2', '']\n",
      "Strom- unit\n",
      "['Strom-', '']\n",
      "Strom-.1 unit\n",
      "['Strom-.1', '']\n",
      "Strom-.2 unit\n",
      "['Strom-.2', '']\n",
      "Abgabe unit\n",
      "['Abgabe', '']\n",
      "Bezug unit\n",
      "['Bezug', '']\n",
      "KH-Zähl1 unit\n",
      "['KH-Zähl1', '']\n",
      "KH-Zähl2 unit\n",
      "['KH-Zähl2', '']\n",
      "KH-DigiE unit\n",
      "['KH-DigiE', '']\n",
      "KH-DigiI unit\n",
      "['KH-DigiI', '']\n"
     ]
    }
   ],
   "source": [
    "cols = list(turbine_2.columns)\n",
    "for col in cols:\n",
    "    if \"unit\" in col:\n",
    "        print(col)\n",
    "        print(col.split(\" unit\"))"
   ]
  },
  {
   "cell_type": "code",
   "execution_count": 13,
   "metadata": {},
   "outputs": [],
   "source": [
    "def arrage_dict(records_dict: dict) -> list:\n",
    "    \"\"\"\n",
    "        arrange exported dict from csv_to_dict() to\n",
    "        db structure in mongo db, return list of dict\n",
    "    \"\"\"\n",
    "    arranged_dict = []\n",
    "    for item in records_dict:\n",
    "        # parse datetime\n",
    "        item[\"Dat/Zeit\"] = datetime.strptime(item[\"Dat/Zeit\"], \"%d.%m.%Y, %H:%M\")\n",
    "        \n",
    "        # group unit with its value\n",
    "        col_unit_names = []\n",
    "        for key in item.keys():\n",
    "            if \"unit\" in key:\n",
    "                col_name, _ = key.split(\" unit\")\n",
    "\n",
    "                # group unit and value\n",
    "                item[col_name] = {\n",
    "                    \"value\": item[col_name],\n",
    "                    \"unit\": item[key]\n",
    "                }\n",
    "\n",
    "                # delete unit dict\n",
    "                col_unit_names.append(key)\n",
    "        \n",
    "        # delete unit from dict\n",
    "        for col_name in col_unit_names:\n",
    "            del item[col_name]\n",
    "\n",
    "        arranged_dict.append(item)\n",
    "    \n",
    "    return arranged_dict"
   ]
  },
  {
   "cell_type": "code",
   "execution_count": 14,
   "metadata": {},
   "outputs": [
    {
     "ename": "ValueError",
     "evalue": "time data '01.01.2016, 00:10' does not match format '%Y-%m-%d, %H:%M'",
     "output_type": "error",
     "traceback": [
      "\u001b[0;31m---------------------------------------------------------------------------\u001b[0m",
      "\u001b[0;31mValueError\u001b[0m                                Traceback (most recent call last)",
      "\u001b[0;32m/tmp/ipykernel_4878/3978019591.py\u001b[0m in \u001b[0;36m<module>\u001b[0;34m\u001b[0m\n\u001b[1;32m      1\u001b[0m \u001b[0mdf_dict\u001b[0m \u001b[0;34m=\u001b[0m \u001b[0mturbine_2\u001b[0m\u001b[0;34m.\u001b[0m\u001b[0mto_dict\u001b[0m\u001b[0;34m(\u001b[0m\u001b[0;34m'records'\u001b[0m\u001b[0;34m)\u001b[0m\u001b[0;34m\u001b[0m\u001b[0;34m\u001b[0m\u001b[0m\n\u001b[0;32m----> 2\u001b[0;31m \u001b[0ma\u001b[0m \u001b[0;34m=\u001b[0m \u001b[0marrage_dict\u001b[0m\u001b[0;34m(\u001b[0m\u001b[0mdf_dict\u001b[0m\u001b[0;34m)\u001b[0m\u001b[0;34m\u001b[0m\u001b[0;34m\u001b[0m\u001b[0m\n\u001b[0m",
      "\u001b[0;32m/tmp/ipykernel_4878/3273825223.py\u001b[0m in \u001b[0;36marrage_dict\u001b[0;34m(records_dict)\u001b[0m\n\u001b[1;32m      7\u001b[0m     \u001b[0;32mfor\u001b[0m \u001b[0mitem\u001b[0m \u001b[0;32min\u001b[0m \u001b[0mrecords_dict\u001b[0m\u001b[0;34m:\u001b[0m\u001b[0;34m\u001b[0m\u001b[0;34m\u001b[0m\u001b[0m\n\u001b[1;32m      8\u001b[0m         \u001b[0;31m# parse datetime\u001b[0m\u001b[0;34m\u001b[0m\u001b[0;34m\u001b[0m\u001b[0;34m\u001b[0m\u001b[0m\n\u001b[0;32m----> 9\u001b[0;31m         \u001b[0mitem\u001b[0m\u001b[0;34m[\u001b[0m\u001b[0;34m\"Dat/Zeit\"\u001b[0m\u001b[0;34m]\u001b[0m \u001b[0;34m=\u001b[0m \u001b[0mdatetime\u001b[0m\u001b[0;34m.\u001b[0m\u001b[0mstrptime\u001b[0m\u001b[0;34m(\u001b[0m\u001b[0mitem\u001b[0m\u001b[0;34m[\u001b[0m\u001b[0;34m\"Dat/Zeit\"\u001b[0m\u001b[0;34m]\u001b[0m\u001b[0;34m,\u001b[0m \u001b[0;34m\"%Y-%m-%d, %H:%M\"\u001b[0m\u001b[0;34m)\u001b[0m\u001b[0;34m\u001b[0m\u001b[0;34m\u001b[0m\u001b[0m\n\u001b[0m\u001b[1;32m     10\u001b[0m \u001b[0;34m\u001b[0m\u001b[0m\n\u001b[1;32m     11\u001b[0m         \u001b[0;31m# group unit with its value\u001b[0m\u001b[0;34m\u001b[0m\u001b[0;34m\u001b[0m\u001b[0;34m\u001b[0m\u001b[0m\n",
      "\u001b[0;32m~/miniconda3/envs/turbit/lib/python3.7/_strptime.py\u001b[0m in \u001b[0;36m_strptime_datetime\u001b[0;34m(cls, data_string, format)\u001b[0m\n\u001b[1;32m    575\u001b[0m     \"\"\"Return a class cls instance based on the input string and the\n\u001b[1;32m    576\u001b[0m     format string.\"\"\"\n\u001b[0;32m--> 577\u001b[0;31m     \u001b[0mtt\u001b[0m\u001b[0;34m,\u001b[0m \u001b[0mfraction\u001b[0m\u001b[0;34m,\u001b[0m \u001b[0mgmtoff_fraction\u001b[0m \u001b[0;34m=\u001b[0m \u001b[0m_strptime\u001b[0m\u001b[0;34m(\u001b[0m\u001b[0mdata_string\u001b[0m\u001b[0;34m,\u001b[0m \u001b[0mformat\u001b[0m\u001b[0;34m)\u001b[0m\u001b[0;34m\u001b[0m\u001b[0;34m\u001b[0m\u001b[0m\n\u001b[0m\u001b[1;32m    578\u001b[0m     \u001b[0mtzname\u001b[0m\u001b[0;34m,\u001b[0m \u001b[0mgmtoff\u001b[0m \u001b[0;34m=\u001b[0m \u001b[0mtt\u001b[0m\u001b[0;34m[\u001b[0m\u001b[0;34m-\u001b[0m\u001b[0;36m2\u001b[0m\u001b[0;34m:\u001b[0m\u001b[0;34m]\u001b[0m\u001b[0;34m\u001b[0m\u001b[0;34m\u001b[0m\u001b[0m\n\u001b[1;32m    579\u001b[0m     \u001b[0margs\u001b[0m \u001b[0;34m=\u001b[0m \u001b[0mtt\u001b[0m\u001b[0;34m[\u001b[0m\u001b[0;34m:\u001b[0m\u001b[0;36m6\u001b[0m\u001b[0;34m]\u001b[0m \u001b[0;34m+\u001b[0m \u001b[0;34m(\u001b[0m\u001b[0mfraction\u001b[0m\u001b[0;34m,\u001b[0m\u001b[0;34m)\u001b[0m\u001b[0;34m\u001b[0m\u001b[0;34m\u001b[0m\u001b[0m\n",
      "\u001b[0;32m~/miniconda3/envs/turbit/lib/python3.7/_strptime.py\u001b[0m in \u001b[0;36m_strptime\u001b[0;34m(data_string, format)\u001b[0m\n\u001b[1;32m    357\u001b[0m     \u001b[0;32mif\u001b[0m \u001b[0;32mnot\u001b[0m \u001b[0mfound\u001b[0m\u001b[0;34m:\u001b[0m\u001b[0;34m\u001b[0m\u001b[0;34m\u001b[0m\u001b[0m\n\u001b[1;32m    358\u001b[0m         raise ValueError(\"time data %r does not match format %r\" %\n\u001b[0;32m--> 359\u001b[0;31m                          (data_string, format))\n\u001b[0m\u001b[1;32m    360\u001b[0m     \u001b[0;32mif\u001b[0m \u001b[0mlen\u001b[0m\u001b[0;34m(\u001b[0m\u001b[0mdata_string\u001b[0m\u001b[0;34m)\u001b[0m \u001b[0;34m!=\u001b[0m \u001b[0mfound\u001b[0m\u001b[0;34m.\u001b[0m\u001b[0mend\u001b[0m\u001b[0;34m(\u001b[0m\u001b[0;34m)\u001b[0m\u001b[0;34m:\u001b[0m\u001b[0;34m\u001b[0m\u001b[0;34m\u001b[0m\u001b[0m\n\u001b[1;32m    361\u001b[0m         raise ValueError(\"unconverted data remains: %s\" %\n",
      "\u001b[0;31mValueError\u001b[0m: time data '01.01.2016, 00:10' does not match format '%Y-%m-%d, %H:%M'"
     ]
    }
   ],
   "source": [
    "df_dict = turbine_2.to_dict('records')\n",
    "a = arrage_dict(df_dict)"
   ]
  },
  {
   "cell_type": "code",
   "execution_count": 9,
   "metadata": {},
   "outputs": [
    {
     "ename": "KeyError",
     "evalue": "'Unnamed: 0'",
     "output_type": "error",
     "traceback": [
      "\u001b[0;31m---------------------------------------------------------------------------\u001b[0m",
      "\u001b[0;31mKeyError\u001b[0m                                  Traceback (most recent call last)",
      "\u001b[0;32m/tmp/ipykernel_4878/347428795.py\u001b[0m in \u001b[0;36m<module>\u001b[0;34m\u001b[0m\n\u001b[0;32m----> 1\u001b[0;31m \u001b[0mdf_dict\u001b[0m\u001b[0;34m[\u001b[0m\u001b[0;36m0\u001b[0m\u001b[0;34m]\u001b[0m\u001b[0;34m[\u001b[0m\u001b[0;34m\"Unnamed: 0\"\u001b[0m\u001b[0;34m]\u001b[0m\u001b[0;34m\u001b[0m\u001b[0;34m\u001b[0m\u001b[0m\n\u001b[0m",
      "\u001b[0;31mKeyError\u001b[0m: 'Unnamed: 0'"
     ]
    }
   ],
   "source": [
    "df_dict[0][\"Unnamed: 0\"]"
   ]
  },
  {
   "cell_type": "code",
   "execution_count": null,
   "metadata": {},
   "outputs": [
    {
     "data": {
      "text/plain": [
       "datetime.datetime(2016, 1, 1, 0, 10)"
      ]
     },
     "execution_count": 53,
     "metadata": {},
     "output_type": "execute_result"
    }
   ],
   "source": [
    "turbine_2[\"Dat/Zeit\"][0].to_pydatetime()"
   ]
  },
  {
   "cell_type": "code",
   "execution_count": null,
   "metadata": {},
   "outputs": [
    {
     "data": {
      "text/plain": [
       "Timestamp('2016-01-01 00:10:00')"
      ]
     },
     "execution_count": 32,
     "metadata": {},
     "output_type": "execute_result"
    }
   ],
   "source": [
    "turbine_2[\"Dat/Zeit\"][0]"
   ]
  },
  {
   "cell_type": "code",
   "execution_count": null,
   "metadata": {},
   "outputs": [],
   "source": [
    "df_dict = turbine_2.to_dict('records')"
   ]
  },
  {
   "cell_type": "code",
   "execution_count": null,
   "metadata": {},
   "outputs": [
    {
     "name": "stdout",
     "output_type": "stream",
     "text": [
      "2016-01-01 00:10:00\n"
     ]
    },
    {
     "data": {
      "text/plain": [
       "Timestamp('2016-01-01 00:10:00')"
      ]
     },
     "execution_count": 44,
     "metadata": {},
     "output_type": "execute_result"
    }
   ],
   "source": [
    "ts = df_dict[0]['Dat/Zeit']\n",
    "print(ts)\n",
    "type(ts)\n",
    "ts"
   ]
  },
  {
   "cell_type": "code",
   "execution_count": null,
   "metadata": {},
   "outputs": [
    {
     "ename": "TypeError",
     "evalue": "an integer is required (got type Timestamp)",
     "output_type": "error",
     "traceback": [
      "\u001b[0;31m---------------------------------------------------------------------------\u001b[0m",
      "\u001b[0;31mTypeError\u001b[0m                                 Traceback (most recent call last)",
      "\u001b[0;32m/tmp/ipykernel_17243/4083705294.py\u001b[0m in \u001b[0;36m<module>\u001b[0;34m\u001b[0m\n\u001b[1;32m      1\u001b[0m \u001b[0;32mfrom\u001b[0m \u001b[0mdatetime\u001b[0m \u001b[0;32mimport\u001b[0m \u001b[0mdatetime\u001b[0m\u001b[0;34m\u001b[0m\u001b[0;34m\u001b[0m\u001b[0m\n\u001b[0;32m----> 2\u001b[0;31m \u001b[0mdatetime\u001b[0m\u001b[0;34m.\u001b[0m\u001b[0mfromtimestamp\u001b[0m\u001b[0;34m(\u001b[0m\u001b[0mdf_dict\u001b[0m\u001b[0;34m[\u001b[0m\u001b[0;36m0\u001b[0m\u001b[0;34m]\u001b[0m\u001b[0;34m[\u001b[0m\u001b[0;34m'Dat/Zeit'\u001b[0m\u001b[0;34m]\u001b[0m\u001b[0;34m)\u001b[0m\u001b[0;34m\u001b[0m\u001b[0;34m\u001b[0m\u001b[0m\n\u001b[0m",
      "\u001b[0;31mTypeError\u001b[0m: an integer is required (got type Timestamp)"
     ]
    }
   ],
   "source": [
    "from datetime import datetime\n",
    "datetime.fromtimestamp(df_dict[0]['Dat/Zeit']) "
   ]
  },
  {
   "cell_type": "code",
   "execution_count": null,
   "metadata": {},
   "outputs": [
    {
     "data": {
      "text/plain": [
       "Timestamp('2016-01-01 00:10:00')"
      ]
     },
     "execution_count": 51,
     "metadata": {},
     "output_type": "execute_result"
    }
   ],
   "source": [
    "df_dict[0]['Dat/Zeit']"
   ]
  },
  {
   "cell_type": "code",
   "execution_count": null,
   "metadata": {},
   "outputs": [
    {
     "data": {
      "text/plain": [
       "1645011757.119831"
      ]
     },
     "execution_count": 47,
     "metadata": {},
     "output_type": "execute_result"
    }
   ],
   "source": [
    "import time\n",
    "time.time()"
   ]
  },
  {
   "cell_type": "code",
   "execution_count": null,
   "metadata": {},
   "outputs": [
    {
     "data": {
      "text/plain": [
       "datetime.datetime(2022, 2, 16, 12, 43, 19, 592284)"
      ]
     },
     "execution_count": 49,
     "metadata": {},
     "output_type": "execute_result"
    }
   ],
   "source": [
    "datetime.fromtimestamp(time.time())"
   ]
  },
  {
   "cell_type": "code",
   "execution_count": null,
   "metadata": {},
   "outputs": [
    {
     "data": {
      "text/plain": [
       "datetime.datetime(2022, 3, 2, 0, 0)"
      ]
     },
     "execution_count": 50,
     "metadata": {},
     "output_type": "execute_result"
    }
   ],
   "source": [
    "datetime(2022, 3, 2)"
   ]
  },
  {
   "cell_type": "code",
   "execution_count": null,
   "metadata": {},
   "outputs": [],
   "source": []
  }
 ],
 "metadata": {
  "interpreter": {
   "hash": "37068c5573b9dbf6cf7bfcab04ca7ff0146a97b3c2dd05781a42c17cee636fe7"
  },
  "kernelspec": {
   "display_name": "Python 3.7.11 ('turbit')",
   "language": "python",
   "name": "python3"
  },
  "language_info": {
   "codemirror_mode": {
    "name": "ipython",
    "version": 3
   },
   "file_extension": ".py",
   "mimetype": "text/x-python",
   "name": "python",
   "nbconvert_exporter": "python",
   "pygments_lexer": "ipython3",
   "version": "3.7.11"
  },
  "orig_nbformat": 4
 },
 "nbformat": 4,
 "nbformat_minor": 2
}
